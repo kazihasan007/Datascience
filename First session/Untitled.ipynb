{
 "cells": [
  {
   "cell_type": "code",
   "execution_count": 2,
   "id": "3723743f-8293-4934-bc9e-ca58028ba5ca",
   "metadata": {
    "tags": []
   },
   "outputs": [
    {
     "name": "stdout",
     "output_type": "stream",
     "text": [
      "less than 5\n"
     ]
    }
   ],
   "source": [
    "i=4\n",
    "if i<3:\n",
    "    \n",
    "    print('less than 3')\n",
    "elif i<5:\n",
    "    print('less than 5')\n",
    "else:\n",
    "    print('5 or more')"
   ]
  },
  {
   "cell_type": "code",
   "execution_count": 3,
   "id": "7883333f-f39a-4093-a122-112176cc022b",
   "metadata": {
    "tags": []
   },
   "outputs": [
    {
     "name": "stdout",
     "output_type": "stream",
     "text": [
      "i is greater than j\n"
     ]
    }
   ],
   "source": [
    "i=29\n",
    "j=19\n",
    "if i>j: print (\"i is greater than j\")"
   ]
  },
  {
   "cell_type": "code",
   "execution_count": 6,
   "id": "116b7be7-d5d5-4294-b217-a1a0cc36a9e5",
   "metadata": {
    "tags": []
   },
   "outputs": [
    {
     "name": "stdout",
     "output_type": "stream",
     "text": [
      "B\n"
     ]
    }
   ],
   "source": [
    "a=330\n",
    "b=330\n",
    "print(\"A\") if a>b else print (\"B\")"
   ]
  },
  {
   "cell_type": "code",
   "execution_count": 5,
   "id": "88787c22-9aff-4448-9275-59107537a646",
   "metadata": {},
   "outputs": [
    {
     "data": {
      "text/plain": [
       "'='"
      ]
     },
     "execution_count": 5,
     "metadata": {},
     "output_type": "execute_result"
    }
   ],
   "source": [
    "a=300\n",
    "b=300\n",
    "print(\"A\") if a>b else (\"=\") if a==b else print (\"B\")\n"
   ]
  },
  {
   "cell_type": "code",
   "execution_count": 13,
   "id": "dc7893b0-13a4-4cd0-b948-edba11bb94b2",
   "metadata": {
    "tags": []
   },
   "outputs": [
    {
     "name": "stdout",
     "output_type": "stream",
     "text": [
      "at least one of the condition is true\n"
     ]
    }
   ],
   "source": [
    "a=1000\n",
    "b=400\n",
    "c=300\n",
    "if a>b or c>b:\n",
    "    print(\"at least one of the condition is true\")"
   ]
  },
  {
   "cell_type": "code",
   "execution_count": 17,
   "id": "8b73ece8-deb4-44c6-8acf-321cc06543c1",
   "metadata": {
    "tags": []
   },
   "outputs": [
    {
     "name": "stdout",
     "output_type": "stream",
     "text": [
      "above ten\n",
      "but not above 20!\n"
     ]
    }
   ],
   "source": [
    "x=65\n",
    "if x>60:\n",
    "    print(\"above ten\")\n",
    "    if x>80:\n",
    "        print(\"also above 20!\")\n",
    "    else:\n",
    "        print(\"but not above 20!\")"
   ]
  },
  {
   "cell_type": "code",
   "execution_count": 19,
   "id": "2095fd57-1dae-466a-ac96-fd4847e2ebaf",
   "metadata": {
    "tags": []
   },
   "outputs": [
    {
     "name": "stdout",
     "output_type": "stream",
     "text": [
      "i is 20\n"
     ]
    }
   ],
   "source": [
    "i=20\n",
    "if(i==10):\n",
    "    print(\"i is 10\")\n",
    "elif(i==15):\n",
    "    print(\"i is 15\")\n",
    "elif(i==20):\n",
    "    print(\"i is 20\")\n",
    "else:\n",
    "    print(\"i is not present\")"
   ]
  },
  {
   "cell_type": "code",
   "execution_count": 21,
   "id": "2066ccf3-ee38-4496-b694-74e21b998a61",
   "metadata": {
    "tags": []
   },
   "outputs": [
    {
     "data": {
      "text/plain": [
       "['a', 'b', 'c', 'd', 'e', 'f']"
      ]
     },
     "execution_count": 21,
     "metadata": {},
     "output_type": "execute_result"
    }
   ],
   "source": [
    "list('abcdef')"
   ]
  },
  {
   "cell_type": "code",
   "execution_count": 7,
   "id": "5117810d-4d47-4afc-817c-cf3c78bd05dc",
   "metadata": {},
   "outputs": [
    {
     "data": {
      "text/plain": [
       "4"
      ]
     },
     "execution_count": 7,
     "metadata": {},
     "output_type": "execute_result"
    }
   ],
   "source": [
    "my_list=['A string',23, 100.132,'0']\n",
    "len(my_list)"
   ]
  },
  {
   "cell_type": "code",
   "execution_count": 17,
   "id": "d3dbad66-9478-4fc0-b913-8d59360a2879",
   "metadata": {
    "tags": []
   },
   "outputs": [
    {
     "data": {
      "text/plain": [
       "['one', 'two', '3']"
      ]
     },
     "execution_count": 17,
     "metadata": {},
     "output_type": "execute_result"
    }
   ],
   "source": [
    "my_list=['one','two','3','4']\n",
    "my_list[:3]"
   ]
  },
  {
   "cell_type": "code",
   "execution_count": 19,
   "id": "95836d4b-3c16-47db-8492-9cbcc6dc063f",
   "metadata": {
    "tags": []
   },
   "outputs": [
    {
     "data": {
      "text/plain": [
       "['one', 'two', '3', '4', 'new item']"
      ]
     },
     "execution_count": 19,
     "metadata": {},
     "output_type": "execute_result"
    }
   ],
   "source": [
    "my_list+['new item']"
   ]
  },
  {
   "cell_type": "code",
   "execution_count": 21,
   "id": "3206b59c-0f2c-41c5-a0e4-befb25c1f402",
   "metadata": {
    "tags": []
   },
   "outputs": [],
   "source": [
    "my_list= my_list+['add new item permanently']"
   ]
  },
  {
   "cell_type": "code",
   "execution_count": 24,
   "id": "dd839b50-0e89-4890-8287-339bb772cda8",
   "metadata": {
    "tags": []
   },
   "outputs": [
    {
     "data": {
      "text/plain": [
       "['one', 'two', '3', '4', 'add new item permanently']"
      ]
     },
     "execution_count": 24,
     "metadata": {},
     "output_type": "execute_result"
    }
   ],
   "source": [
    "my_list"
   ]
  },
  {
   "cell_type": "code",
   "execution_count": 26,
   "id": "b16fd580-cbad-4fd0-9d09-d614cf9e5e90",
   "metadata": {
    "tags": []
   },
   "outputs": [
    {
     "data": {
      "text/plain": [
       "['one',\n",
       " 'two',\n",
       " '3',\n",
       " '4',\n",
       " 'add new item permanently',\n",
       " 'one',\n",
       " 'two',\n",
       " '3',\n",
       " '4',\n",
       " 'add new item permanently']"
      ]
     },
     "execution_count": 26,
     "metadata": {},
     "output_type": "execute_result"
    }
   ],
   "source": [
    "my_list*2"
   ]
  },
  {
   "cell_type": "code",
   "execution_count": 28,
   "id": "3514aa9b-4a95-4df8-aaae-5c11e7443ef9",
   "metadata": {
    "tags": []
   },
   "outputs": [
    {
     "data": {
      "text/plain": [
       "[1, 2, 3]"
      ]
     },
     "execution_count": 28,
     "metadata": {},
     "output_type": "execute_result"
    }
   ],
   "source": [
    "l=[1,2,3]\n",
    "l"
   ]
  },
  {
   "cell_type": "code",
   "execution_count": 36,
   "id": "dd92e7ad-1c04-475e-aae9-541e91cdcfc6",
   "metadata": {
    "tags": []
   },
   "outputs": [
    {
     "data": {
      "text/plain": [
       "[1, 2, 3, 'append me!']"
      ]
     },
     "execution_count": 36,
     "metadata": {},
     "output_type": "execute_result"
    }
   ],
   "source": [
    "l.append('append me!')\n",
    "l"
   ]
  },
  {
   "cell_type": "code",
   "execution_count": 34,
   "id": "6c8c6d91-d2d3-4219-962f-367bc199ee16",
   "metadata": {
    "tags": []
   },
   "outputs": [
    {
     "data": {
      "text/plain": [
       "[1, 2, 3]"
      ]
     },
     "execution_count": 34,
     "metadata": {},
     "output_type": "execute_result"
    }
   ],
   "source": [
    "l"
   ]
  },
  {
   "cell_type": "code",
   "execution_count": 38,
   "id": "5ecbbd94-78cf-4e01-82a3-34b87d1d51d9",
   "metadata": {
    "tags": []
   },
   "outputs": [
    {
     "data": {
      "text/plain": [
       "1"
      ]
     },
     "execution_count": 38,
     "metadata": {},
     "output_type": "execute_result"
    }
   ],
   "source": [
    "l.pop(0)"
   ]
  },
  {
   "cell_type": "code",
   "execution_count": 40,
   "id": "97bcabe9-5f1b-4138-ac06-7b688e31db4e",
   "metadata": {
    "tags": []
   },
   "outputs": [
    {
     "data": {
      "text/plain": [
       "[2, 3, 'append me!']"
      ]
     },
     "execution_count": 40,
     "metadata": {},
     "output_type": "execute_result"
    }
   ],
   "source": [
    "l"
   ]
  },
  {
   "cell_type": "code",
   "execution_count": 42,
   "id": "ded649b7-6a91-40b1-ab78-b5b3c79ab4ca",
   "metadata": {
    "tags": []
   },
   "outputs": [
    {
     "data": {
      "text/plain": [
       "'append me!'"
      ]
     },
     "execution_count": 42,
     "metadata": {},
     "output_type": "execute_result"
    }
   ],
   "source": [
    "popped_item=l.pop()\n",
    "popped_item"
   ]
  },
  {
   "cell_type": "code",
   "execution_count": 44,
   "id": "9c653ee1-a005-4f14-a421-f898881e5197",
   "metadata": {
    "tags": []
   },
   "outputs": [
    {
     "data": {
      "text/plain": [
       "[2, 3]"
      ]
     },
     "execution_count": 44,
     "metadata": {},
     "output_type": "execute_result"
    }
   ],
   "source": [
    "l"
   ]
  },
  {
   "cell_type": "code",
   "execution_count": 46,
   "id": "91a40334-51a4-43a6-ae21-29e338cf03d5",
   "metadata": {
    "tags": []
   },
   "outputs": [
    {
     "data": {
      "text/plain": [
       "['a', 'c', 'x', 'b', 'c']"
      ]
     },
     "execution_count": 46,
     "metadata": {},
     "output_type": "execute_result"
    }
   ],
   "source": [
    "new_list=['a','c','x','b','c']\n",
    "new_list"
   ]
  },
  {
   "cell_type": "code",
   "execution_count": 48,
   "id": "a04d6de4-a891-459b-a60f-bf4b8c325ea8",
   "metadata": {
    "tags": []
   },
   "outputs": [],
   "source": [
    "new_list.reverse()"
   ]
  },
  {
   "cell_type": "code",
   "execution_count": 50,
   "id": "c68bc54c-ec0d-43ac-bb1c-3d597898285c",
   "metadata": {
    "tags": []
   },
   "outputs": [
    {
     "data": {
      "text/plain": [
       "['c', 'b', 'x', 'c', 'a']"
      ]
     },
     "execution_count": 50,
     "metadata": {},
     "output_type": "execute_result"
    }
   ],
   "source": [
    "new_list"
   ]
  },
  {
   "cell_type": "code",
   "execution_count": 52,
   "id": "3467b728-7958-4b01-a660-441beb977cea",
   "metadata": {
    "tags": []
   },
   "outputs": [
    {
     "data": {
      "text/plain": [
       "['a', 'b', 'c', 'c', 'x']"
      ]
     },
     "execution_count": 52,
     "metadata": {},
     "output_type": "execute_result"
    }
   ],
   "source": [
    "new_list.sort()\n",
    "new_list"
   ]
  },
  {
   "cell_type": "code",
   "execution_count": 64,
   "id": "8661e2fa-1091-49aa-871b-7ea5379f2a7d",
   "metadata": {
    "tags": []
   },
   "outputs": [
    {
     "data": {
      "text/plain": [
       "[[1, 2, 3], [4, 5, 6], [7, 8, 9]]"
      ]
     },
     "execution_count": 64,
     "metadata": {},
     "output_type": "execute_result"
    }
   ],
   "source": [
    "lst_1=[1,2,3]\n",
    "lst_2=[4,5,6]\n",
    "lst_3=[7,8,9]\n",
    "\n",
    "matrix = [lst_1,lst_2,lst_3]\n",
    "matrix"
   ]
  },
  {
   "cell_type": "code",
   "execution_count": 66,
   "id": "d00346bb-2f52-426c-b818-72a6d6714ff6",
   "metadata": {
    "tags": []
   },
   "outputs": [
    {
     "data": {
      "text/plain": [
       "6"
      ]
     },
     "execution_count": 66,
     "metadata": {},
     "output_type": "execute_result"
    }
   ],
   "source": [
    "matrix[1][2]"
   ]
  },
  {
   "cell_type": "code",
   "execution_count": 68,
   "id": "5c847e6c-f42b-4820-b84b-d4ad592260d1",
   "metadata": {
    "tags": []
   },
   "outputs": [
    {
     "data": {
      "text/plain": [
       "1"
      ]
     },
     "execution_count": 68,
     "metadata": {},
     "output_type": "execute_result"
    }
   ],
   "source": [
    "matrix[0][0]"
   ]
  },
  {
   "cell_type": "code",
   "execution_count": 1,
   "id": "0d426c2f-0196-42ee-bf91-8bc26f4b346e",
   "metadata": {},
   "outputs": [
    {
     "data": {
      "text/plain": [
       "set"
      ]
     },
     "execution_count": 1,
     "metadata": {},
     "output_type": "execute_result"
    }
   ],
   "source": [
    "x=set()\n",
    "type(x)"
   ]
  },
  {
   "cell_type": "code",
   "execution_count": 3,
   "id": "9fbc960f-8bf6-4e6d-a6ae-4c678af53ad0",
   "metadata": {
    "tags": []
   },
   "outputs": [
    {
     "data": {
      "text/plain": [
       "{1}"
      ]
     },
     "execution_count": 3,
     "metadata": {},
     "output_type": "execute_result"
    }
   ],
   "source": [
    "x.add(1)\n",
    "x"
   ]
  },
  {
   "cell_type": "code",
   "execution_count": 5,
   "id": "15fb52e3-1f72-466e-adf4-1d10c2980363",
   "metadata": {
    "tags": []
   },
   "outputs": [
    {
     "data": {
      "text/plain": [
       "{1, 2}"
      ]
     },
     "execution_count": 5,
     "metadata": {},
     "output_type": "execute_result"
    }
   ],
   "source": [
    "x.add(2)\n",
    "x"
   ]
  },
  {
   "cell_type": "code",
   "execution_count": 9,
   "id": "f5704edd-f451-4b49-8f3f-e52302b1d798",
   "metadata": {},
   "outputs": [
    {
     "data": {
      "text/plain": [
       "[32.0, 72.5, 104.0, 212.0]"
      ]
     },
     "execution_count": 9,
     "metadata": {},
     "output_type": "execute_result"
    }
   ],
   "source": [
    "def fahrenheit(T):\n",
    "    return((float(9)/5)*T +32)\n",
    "def celcius(T):\n",
    "    return(float(5)/9)*(T-32)\n",
    "\n",
    "temp=[0,22.5,40,100]\n",
    "\n",
    "F_temps=list(map(fahrenheit, temp))\n",
    "F_temps\n",
    "\n"
   ]
  },
  {
   "cell_type": "code",
   "execution_count": 11,
   "id": "79cb34d2-b7ae-48f1-8fff-b5efcfeaff89",
   "metadata": {
    "tags": []
   },
   "outputs": [
    {
     "data": {
      "text/plain": [
       "[0.0, 22.5, 40.0, 100.0]"
      ]
     },
     "execution_count": 11,
     "metadata": {},
     "output_type": "execute_result"
    }
   ],
   "source": [
    "list(map(celcius,F_temps))"
   ]
  },
  {
   "cell_type": "code",
   "execution_count": 17,
   "id": "06696b53-962b-4bd7-b0d2-20925ead2f60",
   "metadata": {
    "tags": []
   },
   "outputs": [
    {
     "data": {
      "text/plain": [
       "[0.0, 22.5, 40.0, 100.0]"
      ]
     },
     "execution_count": 17,
     "metadata": {},
     "output_type": "execute_result"
    }
   ],
   "source": [
    "list(map (lambda x: (5.0/9)*(x-32),F_temps))"
   ]
  },
  {
   "cell_type": "code",
   "execution_count": 19,
   "id": "4e79e5cf-db7d-4a4f-8f7b-c9a0a50ea7f2",
   "metadata": {
    "tags": []
   },
   "outputs": [
    {
     "data": {
      "text/plain": [
       "[0.0, 22.5, 40.0, 100.0]"
      ]
     },
     "execution_count": 19,
     "metadata": {},
     "output_type": "execute_result"
    }
   ],
   "source": [
    "list(map (lambda x: (5.0/9)*(x-32),F_temps))"
   ]
  },
  {
   "cell_type": "code",
   "execution_count": 77,
   "id": "3cbc1645-d888-41bc-a403-3e98ba52f2d5",
   "metadata": {
    "tags": []
   },
   "outputs": [],
   "source": [
    "def even_check(num):\n",
    "    if num%2 ==0:\n",
    "        return true \n",
    "    lst= range(40)\n",
    "    list(filter(even_check,lst))"
   ]
  },
  {
   "cell_type": "code",
   "execution_count": null,
   "id": "4403e327-5f49-4279-a3b9-f889d794b76d",
   "metadata": {},
   "outputs": [],
   "source": []
  },
  {
   "cell_type": "code",
   "execution_count": 78,
   "id": "ee76d378-e4eb-410d-968f-fc47a0775d0f",
   "metadata": {
    "tags": []
   },
   "outputs": [
    {
     "ename": "NameError",
     "evalue": "name 'lst' is not defined",
     "output_type": "error",
     "traceback": [
      "\u001b[1;31m---------------------------------------------------------------------------\u001b[0m",
      "\u001b[1;31mNameError\u001b[0m                                 Traceback (most recent call last)",
      "Cell \u001b[1;32mIn[78], line 1\u001b[0m\n\u001b[1;32m----> 1\u001b[0m \u001b[38;5;28mlist\u001b[39m(\u001b[38;5;28mfilter\u001b[39m(\u001b[38;5;28;01mlambda\u001b[39;00m x: num\u001b[38;5;241m%\u001b[39m\u001b[38;5;241m2\u001b[39m \u001b[38;5;241m==\u001b[39m\u001b[38;5;241m0\u001b[39m,lst))\n",
      "\u001b[1;31mNameError\u001b[0m: name 'lst' is not defined"
     ]
    }
   ],
   "source": [
    "list(filter(lambda x: num%2 ==0,lst))"
   ]
  },
  {
   "cell_type": "code",
   "execution_count": 5,
   "id": "1375a057-5925-4023-98ae-421d076a13ee",
   "metadata": {},
   "outputs": [
    {
     "data": {
      "text/plain": [
       "25"
      ]
     },
     "execution_count": 5,
     "metadata": {},
     "output_type": "execute_result"
    }
   ],
   "source": [
    "5**2"
   ]
  },
  {
   "cell_type": "code",
   "execution_count": 9,
   "id": "edda3f53-8376-4a04-88df-bd4cc86f74db",
   "metadata": {
    "tags": []
   },
   "outputs": [
    {
     "data": {
      "text/plain": [
       "500"
      ]
     },
     "execution_count": 9,
     "metadata": {},
     "output_type": "execute_result"
    }
   ],
   "source": [
    "Width=20\n",
    "height=25\n",
    "Width*height"
   ]
  },
  {
   "cell_type": "markdown",
   "id": "a30c1e8f-266b-45e9-aa9b-973471ee9c6a",
   "metadata": {},
   "source": [
    "4*3.75-1"
   ]
  },
  {
   "cell_type": "code",
   "execution_count": 12,
   "id": "5ca926ff-f6cd-4f73-8c9b-bae4de46c05d",
   "metadata": {
    "tags": []
   },
   "outputs": [
    {
     "data": {
      "text/plain": [
       "14.0"
      ]
     },
     "execution_count": 12,
     "metadata": {},
     "output_type": "execute_result"
    }
   ],
   "source": [
    "4 * 3.75 - 1"
   ]
  },
  {
   "cell_type": "raw",
   "id": "7665a031-882e-4c09-a2ea-5b3c9bf77cb4",
   "metadata": {},
   "source": [
    "tax=20/100\n",
    "price=100.50\n",
    "price * tax\n"
   ]
  },
  {
   "cell_type": "code",
   "execution_count": 14,
   "id": "a321f178-7283-42a2-8752-2ab651f2ab6a",
   "metadata": {
    "tags": []
   },
   "outputs": [
    {
     "data": {
      "text/plain": [
       "20.1"
      ]
     },
     "execution_count": 14,
     "metadata": {},
     "output_type": "execute_result"
    }
   ],
   "source": [
    "tax=20/100\n",
    "price=100.50\n",
    "price * tax"
   ]
  },
  {
   "cell_type": "code",
   "execution_count": 16,
   "id": "934b6626-c1af-41d5-80b0-027b6fd3645d",
   "metadata": {
    "tags": []
   },
   "outputs": [
    {
     "ename": "TypeError",
     "evalue": "unsupported operand type(s) for +: 'float' and 'str'",
     "output_type": "error",
     "traceback": [
      "\u001b[1;31m---------------------------------------------------------------------------\u001b[0m",
      "\u001b[1;31mTypeError\u001b[0m                                 Traceback (most recent call last)",
      "Cell \u001b[1;32mIn[16], line 1\u001b[0m\n\u001b[1;32m----> 1\u001b[0m price \u001b[38;5;241m+\u001b[39m _\n",
      "\u001b[1;31mTypeError\u001b[0m: unsupported operand type(s) for +: 'float' and 'str'"
     ]
    }
   ],
   "source": [
    "price + _"
   ]
  },
  {
   "cell_type": "code",
   "execution_count": 30,
   "id": "0a5c68b1-b22c-49f2-a49e-3c00d6c1c645",
   "metadata": {
    "tags": []
   },
   "outputs": [
    {
     "data": {
      "text/plain": [
       "'tho'"
      ]
     },
     "execution_count": 30,
     "metadata": {},
     "output_type": "execute_result"
    }
   ],
   "source": [
    "word = 'python'\n",
    "word[2:5]"
   ]
  },
  {
   "cell_type": "code",
   "execution_count": 32,
   "id": "556cda6a-35d2-4a3e-8774-c50f0188f35e",
   "metadata": {
    "tags": []
   },
   "outputs": [
    {
     "name": "stdout",
     "output_type": "stream",
     "text": [
      "Hello world!\n"
     ]
    }
   ],
   "source": [
    "print(\"Hello world!\")"
   ]
  },
  {
   "cell_type": "code",
   "execution_count": 1,
   "id": "bcbfc7cd-7857-482d-a61a-2117beb7f013",
   "metadata": {},
   "outputs": [
    {
     "name": "stdout",
     "output_type": "stream",
     "text": [
      "the value of i is 65536\n"
     ]
    }
   ],
   "source": [
    "i=256*256\n",
    "print('the value of i is', i)"
   ]
  },
  {
   "cell_type": "code",
   "execution_count": 1,
   "id": "e175dc91-b146-45ad-9527-12991da9174c",
   "metadata": {},
   "outputs": [
    {
     "name": "stdout",
     "output_type": "stream",
     "text": [
      "6\n",
      "10\n",
      "15\n",
      "18\n",
      "23\n",
      "30\n",
      "38\n",
      "the sum is 38\n"
     ]
    }
   ],
   "source": [
    "numbers=[6,4,5,3,5,7,8]\n",
    "sum=0\n",
    "for val in numbers:\n",
    "    sum=sum+val\n",
    "    print (sum)\n",
    "print (\"the sum is\", sum)"
   ]
  },
  {
   "cell_type": "code",
   "execution_count": 3,
   "id": "4b586e17-6611-4912-a6e7-43d8dbe3052e",
   "metadata": {
    "tags": []
   },
   "outputs": [
    {
     "name": "stdout",
     "output_type": "stream",
     "text": [
      "0\n",
      "1\n",
      "5\n",
      "No items left.\n"
     ]
    }
   ],
   "source": [
    "digits=[0,1,5]\n",
    "for i in digits:\n",
    "    print(i)\n",
    "else:\n",
    "    print (\"No items left.\")\n"
   ]
  },
  {
   "cell_type": "code",
   "execution_count": 1,
   "id": "f25cfaa5-58e9-466d-aa06-5574fc8807c1",
   "metadata": {},
   "outputs": [
    {
     "name": "stdout",
     "output_type": "stream",
     "text": [
      "sum 1\n",
      "i 2\n",
      "sum 3\n",
      "i 3\n",
      "sum 6\n",
      "i 4\n",
      "sum 10\n",
      "i 5\n",
      "sum 15\n",
      "i 6\n",
      "sum 21\n",
      "i 7\n",
      "sum 28\n",
      "i 8\n",
      "sum 36\n",
      "i 9\n",
      "sum 45\n",
      "i 10\n",
      "sum 55\n",
      "i 11\n"
     ]
    }
   ],
   "source": [
    "n=10\n",
    "sum=0\n",
    "i=1\n",
    "while i<=n:\n",
    "    sum=sum+i\n",
    "    i=i+1\n",
    "    print('sum',sum)\n",
    "    print('i',i)"
   ]
  },
  {
   "cell_type": "code",
   "execution_count": 3,
   "id": "80a74326-4632-4eda-9056-3dc3f07fb1fc",
   "metadata": {
    "tags": []
   },
   "outputs": [
    {
     "name": "stdout",
     "output_type": "stream",
     "text": [
      "range(0, 10)\n"
     ]
    }
   ],
   "source": [
    "print(range(10))"
   ]
  },
  {
   "cell_type": "code",
   "execution_count": 5,
   "id": "a21cb92b-570f-4d2e-b467-636828178820",
   "metadata": {
    "tags": []
   },
   "outputs": [
    {
     "name": "stdout",
     "output_type": "stream",
     "text": [
      "[0, 1, 2, 3, 4, 5, 6, 7, 8, 9]\n"
     ]
    }
   ],
   "source": [
    "print(list(range(10)))"
   ]
  },
  {
   "cell_type": "code",
   "execution_count": 7,
   "id": "a23c8e04-88fe-4ca5-b5ed-1016df38fcc7",
   "metadata": {
    "tags": []
   },
   "outputs": [
    {
     "name": "stdout",
     "output_type": "stream",
     "text": [
      "[2, 3, 4, 5, 6, 7, 8, 9]\n"
     ]
    }
   ],
   "source": [
    "print(list(range(2,10)))"
   ]
  },
  {
   "cell_type": "code",
   "execution_count": 9,
   "id": "6bc8d9f2-4c23-48d1-bcd0-c692a8e9ec55",
   "metadata": {
    "tags": []
   },
   "outputs": [
    {
     "name": "stdout",
     "output_type": "stream",
     "text": [
      "[2, 4, 6, 8, 10]\n"
     ]
    }
   ],
   "source": [
    "print(list(range(2,11,2)))"
   ]
  },
  {
   "cell_type": "code",
   "execution_count": 15,
   "id": "3262d716-2e99-4804-86bc-8b72f982b9b5",
   "metadata": {
    "tags": []
   },
   "outputs": [
    {
     "name": "stdout",
     "output_type": "stream",
     "text": [
      "I like laptop\n",
      "I like mobile\n",
      "I like radio\n",
      "I like tv\n"
     ]
    }
   ],
   "source": [
    "dvice = ['laptop','mobile','radio','tv']\n",
    "for i in range (len(dvice)):\n",
    "    print(\"I like\", dvice[i])"
   ]
  },
  {
   "cell_type": "code",
   "execution_count": 3,
   "id": "056f004e-9e1e-48e0-958b-b62e8c1a6fcd",
   "metadata": {},
   "outputs": [
    {
     "name": "stdout",
     "output_type": "stream",
     "text": [
      " Hello, world!\n"
     ]
    }
   ],
   "source": [
    "print (\" Hello, world!\")"
   ]
  },
  {
   "cell_type": "code",
   "execution_count": 5,
   "id": "275167ef-eb82-4181-a6de-e49a0fe232d3",
   "metadata": {
    "tags": []
   },
   "outputs": [
    {
     "name": "stdout",
     "output_type": "stream",
     "text": [
      "9\n"
     ]
    }
   ],
   "source": [
    "test_var = 4+5\n",
    "print(test_var)"
   ]
  },
  {
   "cell_type": "code",
   "execution_count": 7,
   "id": "6fed3497-1210-4323-9a8b-a299caf00da5",
   "metadata": {
    "tags": []
   },
   "outputs": [
    {
     "name": "stdout",
     "output_type": "stream",
     "text": [
      "3\n"
     ]
    }
   ],
   "source": [
    "my_var=3\n",
    "print(my_var)"
   ]
  },
  {
   "cell_type": "code",
   "execution_count": 9,
   "id": "1282927a-96c7-4ab4-ba3f-3bb08853b77c",
   "metadata": {
    "tags": []
   },
   "outputs": [
    {
     "name": "stdout",
     "output_type": "stream",
     "text": [
      "100\n"
     ]
    }
   ],
   "source": [
    "my_var=100\n",
    "print(my_var)"
   ]
  },
  {
   "cell_type": "code",
   "execution_count": 11,
   "id": "f32e8676-0b83-4948-b53b-7070e422a9af",
   "metadata": {
    "tags": []
   },
   "outputs": [
    {
     "name": "stdout",
     "output_type": "stream",
     "text": [
      "103\n"
     ]
    }
   ],
   "source": [
    "my_var=my_var + 3\n",
    "print(my_var)"
   ]
  },
  {
   "cell_type": "code",
   "execution_count": 13,
   "id": "6284a488-7aee-4fda-afd1-69a985ae7c63",
   "metadata": {
    "tags": []
   },
   "outputs": [
    {
     "name": "stdout",
     "output_type": "stream",
     "text": [
      "126144000\n"
     ]
    }
   ],
   "source": [
    "num_years=4\n",
    "days_per_year=365\n",
    "hours_per_day=24\n",
    "mins_per_hour=60\n",
    "secs_per_min=60\n",
    "total_secs=secs_per_min*mins_per_hour*hours_per_day*days_per_year*num_years\n",
    "print(total_secs)"
   ]
  },
  {
   "cell_type": "code",
   "execution_count": 15,
   "id": "89b90fc7-5b15-493d-8eef-bebdd67ec29b",
   "metadata": {
    "tags": []
   },
   "outputs": [
    {
     "name": "stdout",
     "output_type": "stream",
     "text": [
      "126230400.0\n"
     ]
    }
   ],
   "source": [
    "days_per_year=365.25\n",
    "total_secs=secs_per_min*mins_per_hour*hours_per_day*days_per_year*num_years\n",
    "print(total_secs)"
   ]
  },
  {
   "cell_type": "code",
   "execution_count": 2,
   "id": "2b33c9b0-14bc-487d-a4ef-c69d85476540",
   "metadata": {},
   "outputs": [
    {
     "name": "stdout",
     "output_type": "stream",
     "text": [
      "Kazi Md Hasanul Hoque\n"
     ]
    }
   ],
   "source": [
    "print(\"Kazi Md Hasanul Hoque\")"
   ]
  },
  {
   "cell_type": "code",
   "execution_count": null,
   "id": "4f2cb5d6-b603-41b4-8edd-63f449ee6951",
   "metadata": {},
   "outputs": [],
   "source": []
  }
 ],
 "metadata": {
  "kernelspec": {
   "display_name": "Python 3 (ipykernel)",
   "language": "python",
   "name": "python3"
  },
  "language_info": {
   "codemirror_mode": {
    "name": "ipython",
    "version": 3
   },
   "file_extension": ".py",
   "mimetype": "text/x-python",
   "name": "python",
   "nbconvert_exporter": "python",
   "pygments_lexer": "ipython3",
   "version": "3.11.5"
  }
 },
 "nbformat": 4,
 "nbformat_minor": 5
}
